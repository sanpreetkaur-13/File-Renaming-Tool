{
 "cells": [
  {
   "cell_type": "code",
   "execution_count": 1,
   "metadata": {},
   "outputs": [],
   "source": [
    "import os"
   ]
  },
  {
   "cell_type": "code",
   "execution_count": 2,
   "metadata": {},
   "outputs": [
    {
     "name": "stdout",
     "output_type": "stream",
     "text": [
      "Enter source of the files: ./\n",
      "What do you want to replace the filename with? YOURINPUT001 is the format: Sanp\n",
      "Enter format of the files: txt\n"
     ]
    }
   ],
   "source": [
    "Src = input('Enter source of the files: ')\n",
    "name = input('What do you want to replace the filename with? YOURINPUT001 is the format: ')\n",
    "fileformat=input('Enter format of the files: ')"
   ]
  },
  {
   "cell_type": "code",
   "execution_count": 3,
   "metadata": {},
   "outputs": [
    {
     "name": "stdout",
     "output_type": "stream",
     "text": [
      "['.ipynb_checkpoints', 'File Renaming Tool.ipynb', 'venv']\n",
      ".ipynb_checkpoints\n",
      "['.ipynb_checkpoints', 'File Renaming Tool.ipynb', 'venv']\n",
      "File Renaming Tool.ipynb\n",
      "['.ipynb_checkpoints', 'File Renaming Tool.ipynb', 'venv']\n",
      "venv\n",
      "['.ipynb_checkpoints', 'File Renaming Tool.ipynb', 'venv']\n"
     ]
    }
   ],
   "source": [
    "list = os.listdir(Src)\n",
    "print(list)\n",
    "for i in range (0,len(list)):\n",
    "    print(list[i])\n",
    "    ren = Src + \"/\" + name + str(i+1) + \".\" + fileformat\n",
    "    des = Src + \"/\" + list[i]\n",
    "    os.rename(des,ren)\n",
    "    print(list)"
   ]
  },
  {
   "cell_type": "code",
   "execution_count": 6,
   "metadata": {},
   "outputs": [
    {
     "name": "stdout",
     "output_type": "stream",
     "text": [
      "['Sanp1.txt', 'Sanp2.txt', 'Sanp3.txt']\n"
     ]
    }
   ],
   "source": [
    "list = os.listdir(Src)\n",
    "print(list)"
   ]
  },
  {
   "cell_type": "code",
   "execution_count": null,
   "metadata": {},
   "outputs": [],
   "source": []
  }
 ],
 "metadata": {
  "kernelspec": {
   "display_name": "Python 3",
   "language": "python",
   "name": "python3"
  },
  "language_info": {
   "codemirror_mode": {
    "name": "ipython",
    "version": 3
   },
   "file_extension": ".py",
   "mimetype": "text/x-python",
   "name": "python",
   "nbconvert_exporter": "python",
   "pygments_lexer": "ipython3",
   "version": "3.7.6"
  }
 },
 "nbformat": 4,
 "nbformat_minor": 4
}
